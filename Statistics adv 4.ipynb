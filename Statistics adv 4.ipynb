{
 "cells": [
  {
   "cell_type": "code",
   "execution_count": 2,
   "id": "9c26e29e-7294-4f46-92f1-35086c5be39d",
   "metadata": {},
   "outputs": [],
   "source": [
    "# Q1: What is the difference between a t-test and a z-test? Provide an example scenario where you would use each type of test."
   ]
  },
  {
   "cell_type": "code",
   "execution_count": 3,
   "id": "0581d6c0-c63a-4995-8b1c-1dd374199f76",
   "metadata": {},
   "outputs": [],
   "source": [
    "# A t-test is used when the sample size is small (n<30) and the population standard deviation is unknown. For example, comparing the mean test scores of two groups of students.\n",
    "\n",
    "#A z-test is used when the sample size is large (n≥30) or the population standard deviation is known. \n",
    "# For instance, determining if the average height of a sample of people is significantly different from the known population average."
   ]
  },
  {
   "cell_type": "code",
   "execution_count": 4,
   "id": "7829be1b-12cc-4a04-986c-58e62ed4f935",
   "metadata": {},
   "outputs": [],
   "source": [
    "# Q2: Differentiate between one-tailed and two-tailed tests."
   ]
  },
  {
   "cell_type": "code",
   "execution_count": 5,
   "id": "62e01ac3-e432-4752-8d54-e52d130a94dc",
   "metadata": {},
   "outputs": [],
   "source": [
    "#In a one-tailed test, the alternative hypothesis is directional, and the critical region is on only one side of the sampling distribution curve. \n",
    "#It tests for a specific relationship (e.g., greater than or less than).\n",
    "\n",
    "#In a two-tailed test, the alternative hypothesis is non-directional, and the critical region is split on both sides of the sampling distribution curve. \n",
    "#It tests for any difference, whether \n",
    "#it's greater than or less than the null hypothesis value."
   ]
  },
  {
   "cell_type": "code",
   "execution_count": null,
   "id": "9c6ed326-41ab-4991-8570-fbeed27f255a",
   "metadata": {},
   "outputs": [],
   "source": [
    "Q3: Explain the concept of Type 1 and Type 2 errors in hypothesis testing. Provide an example scenario for each type of error."
   ]
  },
  {
   "cell_type": "code",
   "execution_count": 6,
   "id": "160ea077-ca9d-453a-9837-8f08c3b7c507",
   "metadata": {},
   "outputs": [],
   "source": [
    "# Type 1 error (false positive) occurs when you wrongly reject a true null hypothesis. Example: A drug trial concludes the drug works when it doesn't.\n",
    "\n",
    "# Type 2 error (false negative) happens when you fail to reject a false null hypothesis. Example: Medical test misses a disease that is actually present."
   ]
  },
  {
   "cell_type": "code",
   "execution_count": 8,
   "id": "ebb37695-f1be-4c48-9b5a-f7b758901ee8",
   "metadata": {},
   "outputs": [],
   "source": [
    "# Q4:  Explain Bayes's theorem with an example."
   ]
  },
  {
   "cell_type": "code",
   "execution_count": 9,
   "id": "c340eedc-f869-4ea6-8df5-c294cc58462f",
   "metadata": {},
   "outputs": [],
   "source": [
    "#Bayes' theorem is a formula that calculates the probability of an event occurring, given that another event has already occurred. \n",
    "#For example, let's say that the probability of getting a positive test result for a disease is 10%, but the probability of actually having the disease is only 1%. \n",
    "#If you get a positive test result, Bayes' theorem can be used to calculate the probability that you actually have the disease, given that you got a positive test result. \n",
    "#In this case, the probability would be about 20%.\n",
    "\n",
    "#Bayes' theorem can be expressed as:\n",
    "\n",
    "#P(A|B) = P(B|A) * P(A) / P(B)\n",
    "\n",
    "\n",
    "#Sure. Bayes' theorem is a formula that calculates the probability of an event occurring, given that another event has already occurred. \n",
    "#For example, let's say that the probability of getting a positive test result for a disease is 10%, but the probability of actually having the disease is only 1%.\n",
    "#If you get a positive test result, Bayes' theorem can be used to calculate the probability that you actually have the disease, given that you got a positive test result. \n",
    "#In this case, the probability would be about 20%.\n",
    "\n",
    "#In 3 lines, Bayes' theorem can be expressed as:\n",
    "\n",
    "#P(A|B) = P(B|A) * P(A) / P(B)\n",
    "#where:\n",
    "\n",
    "#P(A|B) is the probability of event A occurring, given that event B has already occurred\n",
    "#P(B|A) is the probability of event B occurring, given that event A has already occurred\n",
    "#P(A) is the probability of event A occurring\n",
    "#P(B) is the probability of event B occurring\n"
   ]
  },
  {
   "cell_type": "code",
   "execution_count": null,
   "id": "86f80632-6f35-42cf-9c4c-e2801d8f49b0",
   "metadata": {},
   "outputs": [],
   "source": [
    "#Q5: What is a confidence interval? How to calculate the confidence interval, explain with an example."
   ]
  },
  {
   "cell_type": "code",
   "execution_count": 10,
   "id": "fbfc5013-1b04-443b-b434-d42d955deda4",
   "metadata": {},
   "outputs": [],
   "source": [
    "# A confidence interval is a range of values that is likely to contain the true value of a population parameter. \n",
    "# The confidence level is the probability that the true value will actually fall within the confidence interval.\n",
    "#For example, a 95% confidence interval means that there is a 95% probability that the true value will fall within the interval.\n",
    "\n",
    "# To calculate a confidence interval, you need to know the sample mean, the sample standard deviation, and the confidence level. The formula for a confidence interval is:\n",
    "\n",
    "#confidence interval = sample mean ± z * standard deviation / sqrt(n)\n",
    "# where:\n",
    "\n",
    "# z is the z-score for the desired confidence level\n",
    "# n is the sample size\n",
    "\n",
    "# For example, let's say that you have a sample mean of 100, a sample standard deviation of 10, and a confidence level of 95%. \n",
    "# The z-score for 95% confidence is 1.96. So, the confidence interval would be:\n",
    "\n",
    "# confidence interval = 100 ± 1.96 * 10 / sqrt(n) = 95.24 to 104.76\n",
    "# This means that there is a 95% probability that the true mean of the population is between 95.24 and 104.76."
   ]
  },
  {
   "cell_type": "code",
   "execution_count": 11,
   "id": "429323a3-f406-4e28-b36f-fff30a779286",
   "metadata": {},
   "outputs": [],
   "source": [
    "#Q6. Use Bayes' Theorem to calculate the probability of an event occurring given prior knowledge of the event's probability and new evidence. Provide a sample problem and solution."
   ]
  },
  {
   "cell_type": "code",
   "execution_count": 13,
   "id": "350b562b-9355-4da3-8ed5-be0895caf432",
   "metadata": {},
   "outputs": [],
   "source": [
    "#There are a total of 8 balls in a box, 5 of which are red and 3 of which are yellow. If you randomly select one ball from the box, \n",
    " #   the probability that we will select a red ball is 5/8 = 0.625.\n",
    "\n",
    "# However, if you know that the first ball you selected was red, then the probability that the second ball you select is also red is 4/7 = 0.571. \n",
    "# This is because there are now only 7 balls left in the box, and only 4 of them are red.\n",
    "\n",
    "# The first probability is an example of prior knowledge, because it is based on the information that there are 5 red balls in the box.\n",
    "#The second probability is an example of new evidence, because it is based on the information that the first ball you selected was red.\n",
    "\n",
    "#We can use Bayes' theorem to calculate the probability that the second ball you select is red, given that the first ball you selected was red. The formula for Bayes' theorem is:\n",
    "\n",
    "# P(red|red) = (1) * (5/8) / (8/8) = 0.571"
   ]
  },
  {
   "cell_type": "code",
   "execution_count": 14,
   "id": "02d97aef-8fc9-467f-9c28-9f9683653fad",
   "metadata": {},
   "outputs": [],
   "source": [
    "# Q7. Calculate the 95% confidence interval for a sample of data with a mean of 50 and a standard deviation of 5. Interpret the results."
   ]
  },
  {
   "cell_type": "code",
   "execution_count": 15,
   "id": "d4d51ef4-c897-44fd-8ec9-9a388a3e5ea2",
   "metadata": {},
   "outputs": [],
   "source": [
    "# The 95% confidence interval for a sample of data with a mean of 50 and a standard deviation of 5 is:\n",
    "\n",
    "#confidence interval = sample mean ± z * standard deviation / sqrt(n)\n",
    "\n",
    "# 50 ± 1.96 * 5 / sqrt(n) = 43.04 to 56.96\n",
    "# where:\n",
    "\n",
    "# 1.96 is the z-score for a 95% confidence interval\n",
    "# n is the sample size\n",
    "#The interpretation of the results is that there is a 95% probability that the true mean of the population is between 43.04 and 56.96."
   ]
  },
  {
   "cell_type": "code",
   "execution_count": 16,
   "id": "d78845e0-6e25-4fa0-8145-b6070664701b",
   "metadata": {},
   "outputs": [],
   "source": [
    "# Q8. What is the margin of error in a confidence interval? How does sample size affect the margin of error?\n",
    " # Provide an example of a scenario where a larger sample size would result in a smaller margin of error."
   ]
  },
  {
   "cell_type": "code",
   "execution_count": 17,
   "id": "ad73a9b8-2814-4093-a7e6-53a6260a55bd",
   "metadata": {},
   "outputs": [],
   "source": [
    "#The margin of error in a confidence interval is the amount of uncertainty that is associated with the estimate. \n",
    "#It is calculated by taking the standard error of the estimate and multiplying it by the z-score for the desired confidence level.\n",
    "\n",
    "#The sample size affects the margin of error by reducing it. This is because a larger sample size is more likely to be representative of the population,\n",
    "#which means that the sample mean is more likely to be close to the true mean of the population.\n",
    "#The formula for calculating the margin of error:\n",
    "\n",
    "# margin of error = z-score * standard error of the estimate"
   ]
  },
  {
   "cell_type": "code",
   "execution_count": 18,
   "id": "8f100abf-b4de-4238-bf4f-0d9169d77fe8",
   "metadata": {},
   "outputs": [],
   "source": [
    "#Q9. Calculate the z-score for a data point with a value of 75, a population mean of 70, and a population standard deviation of 5. Interpret the results."
   ]
  },
  {
   "cell_type": "code",
   "execution_count": 19,
   "id": "6d78fde6-7011-49b9-9dd5-ee0733ec986d",
   "metadata": {},
   "outputs": [],
   "source": [
    "# The z-score for a data point with a value of 75, a population mean of 70, and a population standard deviation of 5 is:\n",
    "\n",
    "# z = (75 - 70) / 5 = 1\n",
    "# Interpreting the results, we can say that the data point is above average. This is because the z-score is positive.\n",
    "\n",
    "# A z-score of 1 is considered to be a relatively small z-score, which means that the data point is not very far from the mean. However, it is still above average.\n",
    "\n",
    "# If the z-score was greater than 1, then the data point would be further away from the mean and would be considered to be more extreme."
   ]
  },
  {
   "cell_type": "code",
   "execution_count": 20,
   "id": "1a6128dc-793d-48fb-8a8d-8187aa9318c8",
   "metadata": {},
   "outputs": [],
   "source": [
    "# Q10. In a study of the effectiveness of a new weight loss drug, a sample of 50 participants lost an average of 6 pounds with a standard deviation of 2.5 pounds. \n",
    "# Conduct a hypothesis test to determine if the drug is significantly effective at a 95% confidence level using a t-test."
   ]
  },
  {
   "cell_type": "code",
   "execution_count": 21,
   "id": "cfab3356-b929-44e3-b9d8-6372c18df5a0",
   "metadata": {},
   "outputs": [],
   "source": [
    "# Q11. In a survey of 500 people, 65% reported being satisfied with their current job. Calculate the 95% confidence interval for the true proportion of people\n",
    "# who are satisfied with their job."
   ]
  },
  {
   "cell_type": "code",
   "execution_count": 22,
   "id": "9f969012-3153-4a0a-9251-55cb2624fce0",
   "metadata": {},
   "outputs": [],
   "source": [
    "# The 95% confidence interval for the true proportion of people who are satisfied with their job is:\n",
    "\n",
    "# 65% ± 1.96 * sqrt(0.65 * 0.35) / 500 = 61.1% to 68.9%"
   ]
  },
  {
   "cell_type": "code",
   "execution_count": null,
   "id": "7c4aa61d-4272-4b6d-9d58-412777071eda",
   "metadata": {},
   "outputs": [],
   "source": [
    "#Q12. A researcher is testing the effectiveness of two different teaching methods on student performance.\n",
    "#Sample A has a mean score of 85 with a standard deviation of 6, while sample B has a mean score of 82\n",
    "#with a standard deviation of 5. Conduct a hypothesis test to determine if the two teaching methods have a\n",
    "#significant difference in student performance using a t-test with a significance level of 0.01"
   ]
  },
  {
   "cell_type": "code",
   "execution_count": 23,
   "id": "e209dcb5-3559-4247-8516-54daada274d7",
   "metadata": {},
   "outputs": [],
   "source": [
    "# Here is the hypothesis test for determining if the two teaching methods have a significant difference in student performance using a t-test with a significance level of 0.01:\n",
    "\n",
    "#Null hypothesis: There is no difference in the mean scores of the two teaching methods.\n",
    "# Alternative hypothesis: There is a difference in the mean scores of the two teaching methods.\n",
    "\n",
    "# The t-test statistic is calculated as follows:\n",
    "\n",
    "# t = (85 - 82) / (6 / sqrt(25)) = 0.75\n",
    "\n",
    "# The t-test statistic is 0.75. The critical value for a t-test with a significance level of 0.01 and 25 degrees of freedom is 3.182.\n",
    "\n",
    "# Since the t-test statistic is less than the critical value, we fail to reject the null hypothesis.\n",
    "# This means that there is not enough evidence to conclude that the two teaching methods have a significant difference in student performance.\n",
    "\n",
    "# In other words, the two teaching methods are equally effective in terms of student performance."
   ]
  },
  {
   "cell_type": "code",
   "execution_count": 24,
   "id": "e9f0a40d-5667-4266-a069-8eaae3217108",
   "metadata": {},
   "outputs": [],
   "source": [
    "# Q13. A population has a mean of 60 and a standard deviation of 8. A sample of 50 observations has a mean of 65. Calculate the 90% confidence interval for the true population mean."
   ]
  },
  {
   "cell_type": "code",
   "execution_count": 25,
   "id": "d5703fe4-98cb-4c51-8412-904411cee9a1",
   "metadata": {},
   "outputs": [],
   "source": [
    "# The 90% confidence interval for the true population mean is:\n",
    "\n",
    "# 60 ± 1.645 * 8 / sqrt(50) = 57.29 to 66.71\n",
    "\n",
    "# where:\n",
    "\n",
    "#1.645 is the z-score for a 90% confidence interval\n",
    "# 8 is the population standard deviation\n",
    "#50 is the sample size"
   ]
  },
  {
   "cell_type": "code",
   "execution_count": 26,
   "id": "94fd1238-6a98-44a2-b878-f428f5796425",
   "metadata": {},
   "outputs": [],
   "source": [
    "# Q14. In a study of the effects of caffeine on reaction time, a sample of 30 participants had an average reaction time of 0.25 seconds with a standard deviation of 0.05 seconds. \n",
    "# Conduct a hypothesis test to determine if the caffeine has a significant effect on reaction time at a 90% confidence level using a t-test."
   ]
  },
  {
   "cell_type": "code",
   "execution_count": null,
   "id": "2521c43e-12af-43b7-ad60-b3bb9a8de979",
   "metadata": {},
   "outputs": [],
   "source": [
    "# The t-test statistic is calculated as follows:\n",
    "\n",
    "# t = (0.25 - 0.2) / (0.05 / sqrt(30)) = 2.236\n",
    "# where:\n",
    "\n",
    "# 0.25 is the mean reaction time of the sample\n",
    " # 0.2 is the hypothesized mean reaction time of people who have not consumed caffeine\n",
    "# 0.05 is the standard deviation of the sample\n",
    "# 30 is the sample size\n",
    "# The t-test statistic is 2.236. The critical value for a t-test with a significance level of 0.10 and 29 degrees of freedom is 1.697.\n",
    "\n",
    "# Since the t-test statistic is greater than the critical value, we reject the null hypothesis.\n",
    "This means that there is enough evidence to conclude that the caffeine has a significant effect on reaction time."
   ]
  }
 ],
 "metadata": {
  "kernelspec": {
   "display_name": "Python 3 (ipykernel)",
   "language": "python",
   "name": "python3"
  },
  "language_info": {
   "codemirror_mode": {
    "name": "ipython",
    "version": 3
   },
   "file_extension": ".py",
   "mimetype": "text/x-python",
   "name": "python",
   "nbconvert_exporter": "python",
   "pygments_lexer": "ipython3",
   "version": "3.10.8"
  }
 },
 "nbformat": 4,
 "nbformat_minor": 5
}
